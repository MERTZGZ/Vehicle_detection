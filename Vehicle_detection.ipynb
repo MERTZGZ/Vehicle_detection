{
  "nbformat": 4,
  "nbformat_minor": 0,
  "metadata": {
    "colab": {
      "provenance": [],
      "authorship_tag": "ABX9TyP9c5iFzMTqAROZrRpyvpOF",
      "include_colab_link": true
    },
    "kernelspec": {
      "name": "python3",
      "display_name": "Python 3"
    },
    "language_info": {
      "name": "python"
    },
    "accelerator": "GPU",
    "gpuClass": "standard"
  },
  "cells": [
    {
      "cell_type": "markdown",
      "metadata": {
        "id": "view-in-github",
        "colab_type": "text"
      },
      "source": [
        "<a href=\"https://colab.research.google.com/github/MERTZGZ/Vehicle_detection/blob/main/Vehicle_detection.ipynb\" target=\"_parent\"><img src=\"https://colab.research.google.com/assets/colab-badge.svg\" alt=\"Open In Colab\"/></a>"
      ]
    },
    {
      "cell_type": "code",
      "execution_count": null,
      "metadata": {
        "id": "lFytBhXDQQ9N"
      },
      "outputs": [],
      "source": [
        "from google.colab import drive\n",
        "drive.mount('/content/drive')"
      ]
    },
    {
      "cell_type": "code",
      "source": [
        "%cd /content/drive/MyDrive/custom_object_detection/yolov5"
      ],
      "metadata": {
        "id": "hQ1dMcqkQ2Hs"
      },
      "execution_count": null,
      "outputs": []
    },
    {
      "cell_type": "code",
      "source": [
        "!git clone https://github.com/ultralytics/yolov5\n"
      ],
      "metadata": {
        "id": "-0V0TCmjRbi4"
      },
      "execution_count": null,
      "outputs": []
    },
    {
      "cell_type": "code",
      "source": [
        "%cd yolov5"
      ],
      "metadata": {
        "id": "5Gq6Hlo3RyB6"
      },
      "execution_count": null,
      "outputs": []
    },
    {
      "cell_type": "code",
      "source": [
        "%pip install -qr requirements.txt  # install"
      ],
      "metadata": {
        "id": "HuYCGKqjR0ha"
      },
      "execution_count": null,
      "outputs": []
    },
    {
      "cell_type": "code",
      "source": [
        "import torch"
      ],
      "metadata": {
        "id": "4H19_Ap5R33o"
      },
      "execution_count": null,
      "outputs": []
    },
    {
      "cell_type": "code",
      "source": [
        "import utils"
      ],
      "metadata": {
        "id": "oQlzmvYpR6Cu"
      },
      "execution_count": null,
      "outputs": []
    },
    {
      "cell_type": "code",
      "source": [
        "display = utils.notebook_init()  # checks"
      ],
      "metadata": {
        "id": "kiojx5X4VPZa"
      },
      "execution_count": null,
      "outputs": []
    },
    {
      "cell_type": "code",
      "source": [
        "!python train.py --img 128 --batch 128 --epochs 500 --data custom_data.yaml --weights last.pt  --patience 0"
      ],
      "metadata": {
        "id": "Y682mj-Yz9Bz"
      },
      "execution_count": null,
      "outputs": []
    },
    {
      "cell_type": "code",
      "source": [
        "# Test dosyasindaki görselleri bu kod parçasından direk detect ettiginizde otamatik olarak results dosyasını günceller.\n",
        "\n",
        "import os\n",
        "import time\n",
        "import torch\n",
        "import pandas as pd\n",
        "\n",
        "\n",
        "# Test klasörünün yolunu verin\n",
        "test_folder_path = '/content/drive/MyDrive/custom_object_detection/test'\n",
        "\n",
        "# Ölçmek istediğiniz modelin yolunu verin\n",
        "model_path = '/content/drive/MyDrive/custom_object_detection/yolov5/yolov5/best.pt'\n",
        "\n",
        "# Sonuçların kaydedileceği txt dosyasının yolunu ve adını verin\n",
        "results_file = '/content/drive/MyDrive/custom_object_detection/results.txt'\n",
        "\n",
        "# Modeli yükleyin\n",
        "model = torch.hub.load('/content/drive/MyDrive/custom_object_detection/yolov5/yolov5','custom', path=model_path, force_reload=True, source='local')\n",
        "\n",
        "model.conf = 0.50 # yeterli zaman olmadigi icin model cok fazla egitilememistir o yuzden results txt de test jpg leri uzerinde tespit oldugu gosterilsin diye esik degeri dusuk tutlmustur!!!.\n",
        "model.iou = 0.50  # yeterli zaman olmadigi icin model cok fazla egitilememistir o yuzden results txt de test jpg leri uzerinde tespit oldugu gosterilsin diye esik degeri dusuk tutlmustur!!!.\n",
        "\n",
        "# Test klasöründeki resimlerin listesini oluşturun\n",
        "test_images = os.listdir(test_folder_path)\n",
        "\n",
        "# Dosya üzerine yazmak için açın\n",
        "f = open(results_file, 'w')\n",
        "\n",
        "for image_name in test_images:\n",
        "    # Resmin tam yolunu oluşturun\n",
        "    image_path = os.path.join(test_folder_path, image_name)\n",
        "\n",
        "    # Zamanı ölçün\n",
        "    start_time = time.time()\n",
        "\n",
        "    # Resmi yükleyin\n",
        "    img = image_path\n",
        "\n",
        "    # İnceleme yapın\n",
        "    results = model(img)\n",
        "\n",
        "    # Sonuçları pandas DataFrame'ine çevirin\n",
        "    df = results.pandas().xyxy[0]\n",
        "\n",
        "\n",
        "    # Zamanı ölçün\n",
        "    end_time = time.time()\n",
        "    elapsed_time = (end_time - start_time) * 1000\n",
        "\n",
        "    # Sonuçları dosyaya yazın\n",
        "    formatted_time = round(elapsed_time, 2) #Ondalıklı bir sayının virgülden sonra iki basamağını almak \n",
        "\n",
        "    #Bu kod ile, veri çerçevesini oluştururken `pd.options.display.max_colwidth` özelliğini değiştirin ve txt dosyasına yazdırırken veri çerçevesinin sütunlarının genişliğini değiştirin. Bu sayede, `name` sütunu bir alt satırda yer almayacak ve txt dosyasında düzgün bir şekilde görüntülenecektir.\n",
        "    pd.options.display.max_colwidth = 100\n",
        "    #Bu kod, name sütununun her bir değerinin uzunluğunu 100 karakterden azaltacaktır. Bu sayede, txt dosyasında görüntülenen name sütunu daha düzgün görünecektir. Not: Bu önerilen çözüm, name sütununun değerlerinin 100 karakterden az olduğu durumlarda da çalışacaktır. Eğer name sütununun değerleri 100 karakterden azsa, bu kodun etkisi olmayacaktır.\n",
        "    df['name'] = df['name'].str[:100]\n",
        "\n",
        "    f.write(image_name + \": \" + str(formatted_time) + \"ms\"+ \" Hızında tespit edilmiştir.\" + \"\\n\" + \"\\n\")  \n",
        "\n",
        "    f.write(df.to_string() + \"\\n\" + \"\\n\")\n",
        "\n",
        "\n",
        "# Dosyayı kapatın\n",
        "f.close()\n"
      ],
      "metadata": {
        "id": "uSZGjln8DiP0"
      },
      "execution_count": null,
      "outputs": []
    }
  ]
}